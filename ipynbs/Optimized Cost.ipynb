{
 "cells": [
  {
   "cell_type": "code",
   "execution_count": 1,
   "id": "03f680b8",
   "metadata": {},
   "outputs": [],
   "source": [
    "import pandas as pd\n",
    "import numpy as np\n",
    "import time"
   ]
  },
  {
   "cell_type": "code",
   "execution_count": 2,
   "id": "d2c15f96",
   "metadata": {},
   "outputs": [],
   "source": [
    "# hyperparamters\n",
    "SHEET_PATH = 'TT Optimization.xlsx'\n",
    "MAX_GAP = 7\n",
    "MIN_GAP = 2\n",
    "MAX_TIMESLOT_DATE = 8\n",
    "N_COURSES = 10"
   ]
  },
  {
   "cell_type": "code",
   "execution_count": 4,
   "id": "4e89386a",
   "metadata": {},
   "outputs": [
    {
     "ename": "ImportError",
     "evalue": "Missing optional dependency 'openpyxl'.  Use pip or conda to install openpyxl.",
     "output_type": "error",
     "traceback": [
      "\u001b[0;31m---------------------------------------------------------------------------\u001b[0m",
      "\u001b[0;31mModuleNotFoundError\u001b[0m                       Traceback (most recent call last)",
      "File \u001b[0;32m/Library/Frameworks/Python.framework/Versions/3.9/lib/python3.9/site-packages/pandas/compat/_optional.py:142\u001b[0m, in \u001b[0;36mimport_optional_dependency\u001b[0;34m(name, extra, errors, min_version)\u001b[0m\n\u001b[1;32m    141\u001b[0m \u001b[38;5;28;01mtry\u001b[39;00m:\n\u001b[0;32m--> 142\u001b[0m     module \u001b[38;5;241m=\u001b[39m \u001b[43mimportlib\u001b[49m\u001b[38;5;241;43m.\u001b[39;49m\u001b[43mimport_module\u001b[49m\u001b[43m(\u001b[49m\u001b[43mname\u001b[49m\u001b[43m)\u001b[49m\n\u001b[1;32m    143\u001b[0m \u001b[38;5;28;01mexcept\u001b[39;00m \u001b[38;5;167;01mImportError\u001b[39;00m:\n",
      "File \u001b[0;32m/Library/Frameworks/Python.framework/Versions/3.9/lib/python3.9/importlib/__init__.py:127\u001b[0m, in \u001b[0;36mimport_module\u001b[0;34m(name, package)\u001b[0m\n\u001b[1;32m    126\u001b[0m         level \u001b[38;5;241m+\u001b[39m\u001b[38;5;241m=\u001b[39m \u001b[38;5;241m1\u001b[39m\n\u001b[0;32m--> 127\u001b[0m \u001b[38;5;28;01mreturn\u001b[39;00m \u001b[43m_bootstrap\u001b[49m\u001b[38;5;241;43m.\u001b[39;49m\u001b[43m_gcd_import\u001b[49m\u001b[43m(\u001b[49m\u001b[43mname\u001b[49m\u001b[43m[\u001b[49m\u001b[43mlevel\u001b[49m\u001b[43m:\u001b[49m\u001b[43m]\u001b[49m\u001b[43m,\u001b[49m\u001b[43m \u001b[49m\u001b[43mpackage\u001b[49m\u001b[43m,\u001b[49m\u001b[43m \u001b[49m\u001b[43mlevel\u001b[49m\u001b[43m)\u001b[49m\n",
      "File \u001b[0;32m<frozen importlib._bootstrap>:1030\u001b[0m, in \u001b[0;36m_gcd_import\u001b[0;34m(name, package, level)\u001b[0m\n",
      "File \u001b[0;32m<frozen importlib._bootstrap>:1007\u001b[0m, in \u001b[0;36m_find_and_load\u001b[0;34m(name, import_)\u001b[0m\n",
      "File \u001b[0;32m<frozen importlib._bootstrap>:984\u001b[0m, in \u001b[0;36m_find_and_load_unlocked\u001b[0;34m(name, import_)\u001b[0m\n",
      "\u001b[0;31mModuleNotFoundError\u001b[0m: No module named 'openpyxl'",
      "\nDuring handling of the above exception, another exception occurred:\n",
      "\u001b[0;31mImportError\u001b[0m                               Traceback (most recent call last)",
      "Cell \u001b[0;32mIn[4], line 1\u001b[0m\n\u001b[0;32m----> 1\u001b[0m df_students \u001b[38;5;241m=\u001b[39m \u001b[43mpd\u001b[49m\u001b[38;5;241;43m.\u001b[39;49m\u001b[43mread_excel\u001b[49m\u001b[43m(\u001b[49m\u001b[43mSHEET_PATH\u001b[49m\u001b[43m,\u001b[49m\u001b[43m \u001b[49m\u001b[43msheet_name\u001b[49m\u001b[38;5;241;43m=\u001b[39;49m\u001b[38;5;124;43m\"\u001b[39;49m\u001b[38;5;124;43mStudents\u001b[39;49m\u001b[38;5;124;43m\"\u001b[39;49m\u001b[43m)\u001b[49m\n\u001b[1;32m      2\u001b[0m df_courses \u001b[38;5;241m=\u001b[39m pd\u001b[38;5;241m.\u001b[39mread_excel(SHEET_PATH, sheet_name\u001b[38;5;241m=\u001b[39m\u001b[38;5;124m\"\u001b[39m\u001b[38;5;124mCourses\u001b[39m\u001b[38;5;124m\"\u001b[39m, index_col\u001b[38;5;241m=\u001b[39m\u001b[38;5;124m\"\u001b[39m\u001b[38;5;124m#\u001b[39m\u001b[38;5;124m\"\u001b[39m)\n",
      "File \u001b[0;32m/Library/Frameworks/Python.framework/Versions/3.9/lib/python3.9/site-packages/pandas/io/excel/_base.py:478\u001b[0m, in \u001b[0;36mread_excel\u001b[0;34m(io, sheet_name, header, names, index_col, usecols, dtype, engine, converters, true_values, false_values, skiprows, nrows, na_values, keep_default_na, na_filter, verbose, parse_dates, date_parser, date_format, thousands, decimal, comment, skipfooter, storage_options, dtype_backend)\u001b[0m\n\u001b[1;32m    476\u001b[0m \u001b[38;5;28;01mif\u001b[39;00m \u001b[38;5;129;01mnot\u001b[39;00m \u001b[38;5;28misinstance\u001b[39m(io, ExcelFile):\n\u001b[1;32m    477\u001b[0m     should_close \u001b[38;5;241m=\u001b[39m \u001b[38;5;28;01mTrue\u001b[39;00m\n\u001b[0;32m--> 478\u001b[0m     io \u001b[38;5;241m=\u001b[39m \u001b[43mExcelFile\u001b[49m\u001b[43m(\u001b[49m\u001b[43mio\u001b[49m\u001b[43m,\u001b[49m\u001b[43m \u001b[49m\u001b[43mstorage_options\u001b[49m\u001b[38;5;241;43m=\u001b[39;49m\u001b[43mstorage_options\u001b[49m\u001b[43m,\u001b[49m\u001b[43m \u001b[49m\u001b[43mengine\u001b[49m\u001b[38;5;241;43m=\u001b[39;49m\u001b[43mengine\u001b[49m\u001b[43m)\u001b[49m\n\u001b[1;32m    479\u001b[0m \u001b[38;5;28;01melif\u001b[39;00m engine \u001b[38;5;129;01mand\u001b[39;00m engine \u001b[38;5;241m!=\u001b[39m io\u001b[38;5;241m.\u001b[39mengine:\n\u001b[1;32m    480\u001b[0m     \u001b[38;5;28;01mraise\u001b[39;00m \u001b[38;5;167;01mValueError\u001b[39;00m(\n\u001b[1;32m    481\u001b[0m         \u001b[38;5;124m\"\u001b[39m\u001b[38;5;124mEngine should not be specified when passing \u001b[39m\u001b[38;5;124m\"\u001b[39m\n\u001b[1;32m    482\u001b[0m         \u001b[38;5;124m\"\u001b[39m\u001b[38;5;124man ExcelFile - ExcelFile already has the engine set\u001b[39m\u001b[38;5;124m\"\u001b[39m\n\u001b[1;32m    483\u001b[0m     )\n",
      "File \u001b[0;32m/Library/Frameworks/Python.framework/Versions/3.9/lib/python3.9/site-packages/pandas/io/excel/_base.py:1513\u001b[0m, in \u001b[0;36mExcelFile.__init__\u001b[0;34m(self, path_or_buffer, engine, storage_options)\u001b[0m\n\u001b[1;32m   1510\u001b[0m \u001b[38;5;28mself\u001b[39m\u001b[38;5;241m.\u001b[39mengine \u001b[38;5;241m=\u001b[39m engine\n\u001b[1;32m   1511\u001b[0m \u001b[38;5;28mself\u001b[39m\u001b[38;5;241m.\u001b[39mstorage_options \u001b[38;5;241m=\u001b[39m storage_options\n\u001b[0;32m-> 1513\u001b[0m \u001b[38;5;28mself\u001b[39m\u001b[38;5;241m.\u001b[39m_reader \u001b[38;5;241m=\u001b[39m \u001b[38;5;28;43mself\u001b[39;49m\u001b[38;5;241;43m.\u001b[39;49m\u001b[43m_engines\u001b[49m\u001b[43m[\u001b[49m\u001b[43mengine\u001b[49m\u001b[43m]\u001b[49m\u001b[43m(\u001b[49m\u001b[38;5;28;43mself\u001b[39;49m\u001b[38;5;241;43m.\u001b[39;49m\u001b[43m_io\u001b[49m\u001b[43m,\u001b[49m\u001b[43m \u001b[49m\u001b[43mstorage_options\u001b[49m\u001b[38;5;241;43m=\u001b[39;49m\u001b[43mstorage_options\u001b[49m\u001b[43m)\u001b[49m\n",
      "File \u001b[0;32m/Library/Frameworks/Python.framework/Versions/3.9/lib/python3.9/site-packages/pandas/io/excel/_openpyxl.py:548\u001b[0m, in \u001b[0;36mOpenpyxlReader.__init__\u001b[0;34m(self, filepath_or_buffer, storage_options)\u001b[0m\n\u001b[1;32m    533\u001b[0m \u001b[38;5;129m@doc\u001b[39m(storage_options\u001b[38;5;241m=\u001b[39m_shared_docs[\u001b[38;5;124m\"\u001b[39m\u001b[38;5;124mstorage_options\u001b[39m\u001b[38;5;124m\"\u001b[39m])\n\u001b[1;32m    534\u001b[0m \u001b[38;5;28;01mdef\u001b[39;00m \u001b[38;5;21m__init__\u001b[39m(\n\u001b[1;32m    535\u001b[0m     \u001b[38;5;28mself\u001b[39m,\n\u001b[1;32m    536\u001b[0m     filepath_or_buffer: FilePath \u001b[38;5;241m|\u001b[39m ReadBuffer[\u001b[38;5;28mbytes\u001b[39m],\n\u001b[1;32m    537\u001b[0m     storage_options: StorageOptions \u001b[38;5;241m=\u001b[39m \u001b[38;5;28;01mNone\u001b[39;00m,\n\u001b[1;32m    538\u001b[0m ) \u001b[38;5;241m-\u001b[39m\u001b[38;5;241m>\u001b[39m \u001b[38;5;28;01mNone\u001b[39;00m:\n\u001b[1;32m    539\u001b[0m \u001b[38;5;250m    \u001b[39m\u001b[38;5;124;03m\"\"\"\u001b[39;00m\n\u001b[1;32m    540\u001b[0m \u001b[38;5;124;03m    Reader using openpyxl engine.\u001b[39;00m\n\u001b[1;32m    541\u001b[0m \n\u001b[0;32m   (...)\u001b[0m\n\u001b[1;32m    546\u001b[0m \u001b[38;5;124;03m    {storage_options}\u001b[39;00m\n\u001b[1;32m    547\u001b[0m \u001b[38;5;124;03m    \"\"\"\u001b[39;00m\n\u001b[0;32m--> 548\u001b[0m     \u001b[43mimport_optional_dependency\u001b[49m\u001b[43m(\u001b[49m\u001b[38;5;124;43m\"\u001b[39;49m\u001b[38;5;124;43mopenpyxl\u001b[39;49m\u001b[38;5;124;43m\"\u001b[39;49m\u001b[43m)\u001b[49m\n\u001b[1;32m    549\u001b[0m     \u001b[38;5;28msuper\u001b[39m()\u001b[38;5;241m.\u001b[39m\u001b[38;5;21m__init__\u001b[39m(filepath_or_buffer, storage_options\u001b[38;5;241m=\u001b[39mstorage_options)\n",
      "File \u001b[0;32m/Library/Frameworks/Python.framework/Versions/3.9/lib/python3.9/site-packages/pandas/compat/_optional.py:145\u001b[0m, in \u001b[0;36mimport_optional_dependency\u001b[0;34m(name, extra, errors, min_version)\u001b[0m\n\u001b[1;32m    143\u001b[0m \u001b[38;5;28;01mexcept\u001b[39;00m \u001b[38;5;167;01mImportError\u001b[39;00m:\n\u001b[1;32m    144\u001b[0m     \u001b[38;5;28;01mif\u001b[39;00m errors \u001b[38;5;241m==\u001b[39m \u001b[38;5;124m\"\u001b[39m\u001b[38;5;124mraise\u001b[39m\u001b[38;5;124m\"\u001b[39m:\n\u001b[0;32m--> 145\u001b[0m         \u001b[38;5;28;01mraise\u001b[39;00m \u001b[38;5;167;01mImportError\u001b[39;00m(msg)\n\u001b[1;32m    146\u001b[0m     \u001b[38;5;28;01mreturn\u001b[39;00m \u001b[38;5;28;01mNone\u001b[39;00m\n\u001b[1;32m    148\u001b[0m \u001b[38;5;66;03m# Handle submodules: if we have submodule, grab parent module from sys.modules\u001b[39;00m\n",
      "\u001b[0;31mImportError\u001b[0m: Missing optional dependency 'openpyxl'.  Use pip or conda to install openpyxl."
     ]
    }
   ],
   "source": [
    "df_students = pd.read_excel(SHEET_PATH, sheet_name=\"Students\")\n",
    "df_courses = pd.read_excel(SHEET_PATH, sheet_name=\"Courses\", index_col=\"#\")"
   ]
  },
  {
   "cell_type": "code",
   "execution_count": 4,
   "id": "dd75580a",
   "metadata": {
    "scrolled": true
   },
   "outputs": [
    {
     "data": {
      "text/html": [
       "<div>\n",
       "<style scoped>\n",
       "    .dataframe tbody tr th:only-of-type {\n",
       "        vertical-align: middle;\n",
       "    }\n",
       "\n",
       "    .dataframe tbody tr th {\n",
       "        vertical-align: top;\n",
       "    }\n",
       "\n",
       "    .dataframe thead th {\n",
       "        text-align: right;\n",
       "    }\n",
       "</style>\n",
       "<table border=\"1\" class=\"dataframe\">\n",
       "  <thead>\n",
       "    <tr style=\"text-align: right;\">\n",
       "      <th></th>\n",
       "      <th>Concat</th>\n",
       "    </tr>\n",
       "  </thead>\n",
       "  <tbody>\n",
       "    <tr>\n",
       "      <th>0</th>\n",
       "      <td>1, 9, 8, 5, 7, 6, 2</td>\n",
       "    </tr>\n",
       "    <tr>\n",
       "      <th>1</th>\n",
       "      <td>1, 5, 6, 9, 4, 2,</td>\n",
       "    </tr>\n",
       "    <tr>\n",
       "      <th>2</th>\n",
       "      <td>7, 9, 5, 2, 8, 1,</td>\n",
       "    </tr>\n",
       "    <tr>\n",
       "      <th>3</th>\n",
       "      <td>7, 5, 1, 8, 6, 2, 9</td>\n",
       "    </tr>\n",
       "    <tr>\n",
       "      <th>4</th>\n",
       "      <td>1, 8, 3, 2, 5, 6,</td>\n",
       "    </tr>\n",
       "  </tbody>\n",
       "</table>\n",
       "</div>"
      ],
      "text/plain": [
       "                Concat\n",
       "0  1, 9, 8, 5, 7, 6, 2\n",
       "1   1, 5, 6, 9, 4, 2, \n",
       "2   7, 9, 5, 2, 8, 1, \n",
       "3  7, 5, 1, 8, 6, 2, 9\n",
       "4   1, 8, 3, 2, 5, 6, "
      ]
     },
     "execution_count": 4,
     "metadata": {},
     "output_type": "execute_result"
    }
   ],
   "source": [
    "df_students[[(list(df_students.columns)).pop()]].head()"
   ]
  },
  {
   "cell_type": "code",
   "execution_count": 5,
   "id": "ad9d1693",
   "metadata": {},
   "outputs": [],
   "source": [
    "students_taking_it = df_students.melt(id_vars=['Name'],\n",
    "                                      value_vars=['C1', 'C2', 'C3', 'C4', 'C5', 'C6'])\\\n",
    "                                      .groupby('value').count()\\\n",
    "                                      .reset_index()\\\n",
    "    .rename(columns={'variable': 'Course', 'Name': 'students_taking_it'})[['Course', 'students_taking_it']]"
   ]
  },
  {
   "cell_type": "code",
   "execution_count": 191,
   "id": "e3443ebd",
   "metadata": {},
   "outputs": [
    {
     "data": {
      "text/html": [
       "<div>\n",
       "<style scoped>\n",
       "    .dataframe tbody tr th:only-of-type {\n",
       "        vertical-align: middle;\n",
       "    }\n",
       "\n",
       "    .dataframe tbody tr th {\n",
       "        vertical-align: top;\n",
       "    }\n",
       "\n",
       "    .dataframe thead th {\n",
       "        text-align: right;\n",
       "    }\n",
       "</style>\n",
       "<table border=\"1\" class=\"dataframe\">\n",
       "  <thead>\n",
       "    <tr style=\"text-align: right;\">\n",
       "      <th></th>\n",
       "      <th>Name</th>\n",
       "      <th>Code</th>\n",
       "      <th>Dept</th>\n",
       "      <th>ID</th>\n",
       "      <th>CH</th>\n",
       "      <th>Score</th>\n",
       "      <th>CW</th>\n",
       "      <th>Factor</th>\n",
       "      <th>recommended_gap</th>\n",
       "    </tr>\n",
       "    <tr>\n",
       "      <th>#</th>\n",
       "      <th></th>\n",
       "      <th></th>\n",
       "      <th></th>\n",
       "      <th></th>\n",
       "      <th></th>\n",
       "      <th></th>\n",
       "      <th></th>\n",
       "      <th></th>\n",
       "      <th></th>\n",
       "    </tr>\n",
       "  </thead>\n",
       "  <tbody>\n",
       "    <tr>\n",
       "      <th>1</th>\n",
       "      <td>Signals</td>\n",
       "      <td>ECE251</td>\n",
       "      <td>ECE</td>\n",
       "      <td>251</td>\n",
       "      <td>4</td>\n",
       "      <td>2.5</td>\n",
       "      <td>55</td>\n",
       "      <td>3.2</td>\n",
       "      <td>7.000000</td>\n",
       "    </tr>\n",
       "    <tr>\n",
       "      <th>2</th>\n",
       "      <td>HR</td>\n",
       "      <td>ASU111</td>\n",
       "      <td>ASU</td>\n",
       "      <td>111</td>\n",
       "      <td>3</td>\n",
       "      <td>3.3</td>\n",
       "      <td>53</td>\n",
       "      <td>2.1</td>\n",
       "      <td>4.962963</td>\n",
       "    </tr>\n",
       "    <tr>\n",
       "      <th>3</th>\n",
       "      <td>EDA</td>\n",
       "      <td>CSE312</td>\n",
       "      <td>CSE</td>\n",
       "      <td>312</td>\n",
       "      <td>2</td>\n",
       "      <td>3.7</td>\n",
       "      <td>58</td>\n",
       "      <td>0.5</td>\n",
       "      <td>2.000000</td>\n",
       "    </tr>\n",
       "    <tr>\n",
       "      <th>4</th>\n",
       "      <td>DSA</td>\n",
       "      <td>CSE331</td>\n",
       "      <td>CSE</td>\n",
       "      <td>331</td>\n",
       "      <td>3</td>\n",
       "      <td>3.5</td>\n",
       "      <td>56</td>\n",
       "      <td>1.3</td>\n",
       "      <td>3.481481</td>\n",
       "    </tr>\n",
       "    <tr>\n",
       "      <th>5</th>\n",
       "      <td>Algorithms</td>\n",
       "      <td>CSE332</td>\n",
       "      <td>CSE</td>\n",
       "      <td>332</td>\n",
       "      <td>3</td>\n",
       "      <td>3.2</td>\n",
       "      <td>54</td>\n",
       "      <td>2.0</td>\n",
       "      <td>4.777778</td>\n",
       "    </tr>\n",
       "    <tr>\n",
       "      <th>6</th>\n",
       "      <td>DB</td>\n",
       "      <td>CSE333</td>\n",
       "      <td>CSE</td>\n",
       "      <td>333</td>\n",
       "      <td>3</td>\n",
       "      <td>3.5</td>\n",
       "      <td>53</td>\n",
       "      <td>1.9</td>\n",
       "      <td>4.592593</td>\n",
       "    </tr>\n",
       "    <tr>\n",
       "      <th>7</th>\n",
       "      <td>Testing</td>\n",
       "      <td>CSE338</td>\n",
       "      <td>CSE</td>\n",
       "      <td>338</td>\n",
       "      <td>3</td>\n",
       "      <td>3.7</td>\n",
       "      <td>57</td>\n",
       "      <td>0.9</td>\n",
       "      <td>2.740741</td>\n",
       "    </tr>\n",
       "    <tr>\n",
       "      <th>8</th>\n",
       "      <td>Compilers</td>\n",
       "      <td>CSE439</td>\n",
       "      <td>CSE</td>\n",
       "      <td>439</td>\n",
       "      <td>3</td>\n",
       "      <td>3.5</td>\n",
       "      <td>55</td>\n",
       "      <td>1.5</td>\n",
       "      <td>3.851852</td>\n",
       "    </tr>\n",
       "    <tr>\n",
       "      <th>9</th>\n",
       "      <td>AI</td>\n",
       "      <td>CSE472</td>\n",
       "      <td>CSE</td>\n",
       "      <td>472</td>\n",
       "      <td>3</td>\n",
       "      <td>3.5</td>\n",
       "      <td>57</td>\n",
       "      <td>1.1</td>\n",
       "      <td>3.111111</td>\n",
       "    </tr>\n",
       "  </tbody>\n",
       "</table>\n",
       "</div>"
      ],
      "text/plain": [
       "         Name    Code Dept   ID  CH  Score  CW  Factor  recommended_gap\n",
       "#                                                                      \n",
       "1     Signals  ECE251  ECE  251   4    2.5  55     3.2         7.000000\n",
       "2          HR  ASU111  ASU  111   3    3.3  53     2.1         4.962963\n",
       "3         EDA  CSE312  CSE  312   2    3.7  58     0.5         2.000000\n",
       "4         DSA  CSE331  CSE  331   3    3.5  56     1.3         3.481481\n",
       "5  Algorithms  CSE332  CSE  332   3    3.2  54     2.0         4.777778\n",
       "6          DB  CSE333  CSE  333   3    3.5  53     1.9         4.592593\n",
       "7     Testing  CSE338  CSE  338   3    3.7  57     0.9         2.740741\n",
       "8   Compilers  CSE439  CSE  439   3    3.5  55     1.5         3.851852\n",
       "9          AI  CSE472  CSE  472   3    3.5  57     1.1         3.111111"
      ]
     },
     "execution_count": 191,
     "metadata": {},
     "output_type": "execute_result"
    }
   ],
   "source": [
    "df_courses"
   ]
  },
  {
   "cell_type": "code",
   "execution_count": 33,
   "id": "2740ff14",
   "metadata": {},
   "outputs": [],
   "source": [
    "def map_courses_to_indices(courses):\n",
    "    ret = set()\n",
    "    for course in courses:\n",
    "        ret.add(int(course))\n",
    "    return ret"
   ]
  },
  {
   "cell_type": "code",
   "execution_count": 34,
   "id": "a3ac6b9d",
   "metadata": {},
   "outputs": [],
   "source": [
    "course_dict = {}\n",
    "for index, row in df_students.iterrows():\n",
    "    courses_of_student = set(row[\"Concat\"].split(\", \"))\n",
    "    try:\n",
    "        courses_of_student.remove(\"\")\n",
    "    except:\n",
    "        pass\n",
    "    course_dict[index] = (map_courses_to_indices(courses_of_student))"
   ]
  },
  {
   "cell_type": "code",
   "execution_count": 35,
   "id": "d690d937",
   "metadata": {},
   "outputs": [
    {
     "data": {
      "text/plain": [
       "{0: {1, 2, 5, 6, 7, 8, 9},\n",
       " 1: {1, 2, 4, 5, 6, 9},\n",
       " 2: {1, 2, 5, 7, 8, 9},\n",
       " 3: {1, 2, 5, 6, 7, 8, 9},\n",
       " 4: {1, 2, 3, 5, 6, 8},\n",
       " 5: {2, 3, 5, 6, 9},\n",
       " 6: {1, 2, 5, 6, 7, 8, 9},\n",
       " 7: {1, 2, 4, 5, 6, 7, 9},\n",
       " 8: {1, 2, 4, 6, 7, 8, 9},\n",
       " 9: {1, 2, 4, 5, 6, 7}}"
      ]
     },
     "execution_count": 35,
     "metadata": {},
     "output_type": "execute_result"
    }
   ],
   "source": [
    "course_dict  # Student ID : [*course_ids]"
   ]
  },
  {
   "cell_type": "code",
   "execution_count": 36,
   "id": "985c1a47",
   "metadata": {},
   "outputs": [
    {
     "data": {
      "text/plain": [
       "[{1, 2, 5, 6, 7, 8, 9},\n",
       " {1, 2, 4, 5, 6, 9},\n",
       " {1, 2, 5, 7, 8, 9},\n",
       " {1, 2, 5, 6, 7, 8, 9},\n",
       " {1, 2, 3, 5, 6, 8},\n",
       " {2, 3, 5, 6, 9},\n",
       " {1, 2, 5, 6, 7, 8, 9},\n",
       " {1, 2, 4, 5, 6, 7, 9},\n",
       " {1, 2, 4, 6, 7, 8, 9},\n",
       " {1, 2, 4, 5, 6, 7}]"
      ]
     },
     "execution_count": 36,
     "metadata": {},
     "output_type": "execute_result"
    }
   ],
   "source": [
    "list(course_dict.values())"
   ]
  },
  {
   "cell_type": "code",
   "execution_count": 37,
   "id": "c42088d8",
   "metadata": {
    "scrolled": true
   },
   "outputs": [],
   "source": [
    "def get_conflict_matrix(course_dict):\n",
    "    course_list = list(course_dict.values())\n",
    "\n",
    "    # Create a list of unique course IDs\n",
    "    course_ids = sorted(set.union(*course_list))\n",
    "\n",
    "    # Initialize the conflict matrix to 1 for all courses\n",
    "    conflict_matrix = [[1] * len(course_ids) for _ in range(len(course_ids))]\n",
    "\n",
    "    # Iterate over each pair of courses and check if they appear together in any student's course set\n",
    "    for i, course1 in enumerate(course_ids):\n",
    "        for j, course2 in enumerate(course_ids):\n",
    "            if i < j:\n",
    "                for courses in course_list:\n",
    "                    if course1 in courses and course2 in courses:\n",
    "                        conflict_matrix[i][j] = 0\n",
    "                        conflict_matrix[j][i] = 0\n",
    "                        break\n",
    "    return conflict_matrix"
   ]
  },
  {
   "cell_type": "code",
   "execution_count": 38,
   "id": "41906379",
   "metadata": {},
   "outputs": [
    {
     "name": "stdout",
     "output_type": "stream",
     "text": [
      "     1  2  3  4  5  6  7  8  9 \n",
      "1 : [1, 0, 0, 0, 0, 0, 0, 0, 0]\n",
      "2 : [0, 1, 0, 0, 0, 0, 0, 0, 0]\n",
      "3 : [0, 0, 1, 1, 0, 0, 1, 0, 0]\n",
      "4 : [0, 0, 1, 1, 0, 0, 0, 0, 0]\n",
      "5 : [0, 0, 0, 0, 1, 0, 0, 0, 0]\n",
      "6 : [0, 0, 0, 0, 0, 1, 0, 0, 0]\n",
      "7 : [0, 0, 1, 0, 0, 0, 1, 0, 0]\n",
      "8 : [0, 0, 0, 0, 0, 0, 0, 1, 0]\n",
      "9 : [0, 0, 0, 0, 0, 0, 0, 0, 1]\n"
     ]
    }
   ],
   "source": [
    "conflict_matrix = get_conflict_matrix(course_dict)\n",
    "print(\"    \", *[f\"{i} \" for i in range(1, 10)])\n",
    "# Print the conflict matrix\n",
    "for i, row in enumerate(conflict_matrix):\n",
    "    print(i+1, \":\", row)"
   ]
  },
  {
   "cell_type": "code",
   "execution_count": 62,
   "id": "9a0713c5",
   "metadata": {},
   "outputs": [],
   "source": [
    "def get_conflict_dict(conflict_matrix):\n",
    "    conflict_dict = {}\n",
    "    for i, row in enumerate(conflict_matrix):\n",
    "        course = i+1\n",
    "        conflict_set = set(j+1 for j, val in enumerate(row) if val == 0 or j == i)\n",
    "        conflict_dict[course] = conflict_set\n",
    "\n",
    "    return conflict_dict"
   ]
  },
  {
   "cell_type": "code",
   "execution_count": 63,
   "id": "9aebeab7",
   "metadata": {},
   "outputs": [
    {
     "data": {
      "text/plain": [
       "{1: {1, 2, 3, 4, 5, 6, 7, 8, 9},\n",
       " 2: {1, 2, 3, 4, 5, 6, 7, 8, 9},\n",
       " 3: {1, 2, 3, 5, 6, 8, 9},\n",
       " 4: {1, 2, 4, 5, 6, 7, 8, 9},\n",
       " 5: {1, 2, 3, 4, 5, 6, 7, 8, 9},\n",
       " 6: {1, 2, 3, 4, 5, 6, 7, 8, 9},\n",
       " 7: {1, 2, 4, 5, 6, 7, 8, 9},\n",
       " 8: {1, 2, 3, 4, 5, 6, 7, 8, 9},\n",
       " 9: {1, 2, 3, 4, 5, 6, 7, 8, 9}}"
      ]
     },
     "execution_count": 63,
     "metadata": {},
     "output_type": "execute_result"
    }
   ],
   "source": [
    "conflict_dict = get_conflict_dict(conflict_matrix)\n",
    "conflict_dict"
   ]
  },
  {
   "cell_type": "code",
   "execution_count": 64,
   "id": "05f56e8b",
   "metadata": {},
   "outputs": [],
   "source": [
    "def get_freq(course_dict):\n",
    "    course_freq = {course: sum(course in courses for courses in course_dict.values())\n",
    "                   for course in set.union(*course_dict.values())}\n",
    "    return sorted(list(course_freq.items()),\n",
    "                  key=lambda x: -x[1])"
   ]
  },
  {
   "cell_type": "code",
   "execution_count": 65,
   "id": "d6d83bed",
   "metadata": {},
   "outputs": [
    {
     "data": {
      "text/plain": [
       "[(2, 10), (1, 9), (5, 9), (6, 9), (9, 8), (7, 7), (8, 6), (4, 4), (3, 2)]"
      ]
     },
     "execution_count": 65,
     "metadata": {},
     "output_type": "execute_result"
    }
   ],
   "source": [
    "get_freq(course_dict)"
   ]
  },
  {
   "cell_type": "code",
   "execution_count": 66,
   "id": "9fe6787e",
   "metadata": {},
   "outputs": [],
   "source": [
    "# To normalize the factors\n",
    "min_factor = float(df_courses[\"Factor\"].min())\n",
    "max_factor = float(df_courses[\"Factor\"].max())"
   ]
  },
  {
   "cell_type": "code",
   "execution_count": 67,
   "id": "943776f9",
   "metadata": {},
   "outputs": [],
   "source": [
    "def gamma(factor):\n",
    "    return (factor - min_factor) / (max_factor - min_factor) * (MAX_GAP - MIN_GAP) + MIN_GAP"
   ]
  },
  {
   "cell_type": "code",
   "execution_count": 68,
   "id": "cb8879f7",
   "metadata": {},
   "outputs": [],
   "source": [
    "# Apply gamma to factor\n",
    "df_courses['recommended_gap'] = df_courses[\"Factor\"].apply(gamma)"
   ]
  },
  {
   "cell_type": "markdown",
   "id": "6145641f",
   "metadata": {},
   "source": [
    "$$\\Gamma(DepartmentFactor * CreditHours * ((1-\\alpha) \\cdot AverageCreditsLost + \\alpha \\cdot \\Psi(AverageCourseworkMarksLost)))$$"
   ]
  },
  {
   "cell_type": "markdown",
   "id": "f0f4219b",
   "metadata": {},
   "source": [
    "$$BestGapFactor(C) = \\Gamma(DepartmentFactor * CreditHours * ((1-\\alpha) \\cdot AverageCreditsLost + \\alpha \\cdot \\Psi(AverageCourseworkMarksLost)))$$"
   ]
  },
  {
   "cell_type": "code",
   "execution_count": 188,
   "id": "08654a34",
   "metadata": {},
   "outputs": [],
   "source": [
    "def generate_feasible_timetable(course_dict):\n",
    "    # Create a conflict dictionary and a frequency dictionary\n",
    "    conflict_matrix = get_conflict_matrix(course_dict)\n",
    "    conflict_dict = get_conflict_dict(conflict_matrix)\n",
    "    freq_dict = get_freq(course_dict)\n",
    "    \n",
    "    def check_if_can_append_to_timeslot(min_timeslot, course_id, non_conflicts):\n",
    "        for course_id_inside in min_timeslot:\n",
    "            if course_id_inside not in non_conflicts:\n",
    "                return False\n",
    "        return True\n",
    "    \n",
    "    # Create a list of course IDs sorted by decreasing frequency\n",
    "    course_ids = [x[0] for x in freq_dict]\n",
    "    # Initialize an empty list of timeslots\n",
    "    timeslots = []\n",
    "\n",
    "    # Iterate over each course ID in the sorted list\n",
    "    for course_id in course_ids:\n",
    "        # Find the non-conflicting courses for this course\n",
    "        non_conflicts = set(course_ids) - conflict_dict[course_id]\n",
    "        # If there are no non-conflicting courses, create a new timeslot\n",
    "        if not non_conflicts:\n",
    "            timeslots.append([course_id])\n",
    "        else:\n",
    "            # Find the timeslot with the fewest courses\n",
    "            sorted_indices = sorted(range(len(timeslots)), key=lambda i: len(timeslots[i]))\n",
    "            min_timeslot = min(timeslots, key=lambda x: len(x))\n",
    "            has_appended = False\n",
    "            for idx in sorted_indices:\n",
    "                # Check if adding this course to the timeslot would cause a clash\n",
    "                can_append = check_if_can_append_to_timeslot(timeslots[idx], course_id, non_conflicts)\n",
    "                if can_append:\n",
    "                    # Add this course to the timeslot with the fewest courses\n",
    "                    has_appended = True\n",
    "                    timeslots[idx].append(course_id)\n",
    "                    break\n",
    "            if not has_appended:\n",
    "                # Create a new timeslot if there is a clash\n",
    "                timeslots.append([course_id])\n",
    "        \n",
    "        print(course_id, \"\\t\\t\", *non_conflicts, \"\\t\\t\", timeslots)\n",
    "\n",
    "    return timeslots"
   ]
  },
  {
   "cell_type": "code",
   "execution_count": 190,
   "id": "8f81b1f8",
   "metadata": {},
   "outputs": [
    {
     "name": "stdout",
     "output_type": "stream",
     "text": [
      "2 \t\t \t\t [[2]]\n",
      "1 \t\t \t\t [[2], [1]]\n",
      "5 \t\t \t\t [[2], [1], [5]]\n",
      "6 \t\t \t\t [[2], [1], [5], [6]]\n",
      "9 \t\t \t\t [[2], [1], [5], [6], [9]]\n",
      "7 \t\t 3 \t\t [[2], [1], [5], [6], [9], [7]]\n",
      "8 \t\t \t\t [[2], [1], [5], [6], [9], [7], [8]]\n",
      "4 \t\t 3 \t\t [[2], [1], [5], [6], [9], [7], [8], [4]]\n",
      "3 \t\t 4 7 \t\t [[2], [1], [5], [6], [9], [7, 3], [8], [4]]\n"
     ]
    },
    {
     "data": {
      "text/plain": [
       "[[2], [1], [5], [6], [9], [7, 3], [8], [4]]"
      ]
     },
     "execution_count": 190,
     "metadata": {},
     "output_type": "execute_result"
    }
   ],
   "source": [
    "timetable = generate_feasible_timetable(course_dict)\n",
    "timetable"
   ]
  },
  {
   "cell_type": "code",
   "execution_count": 126,
   "id": "694c990c",
   "metadata": {},
   "outputs": [
    {
     "data": {
      "text/plain": [
       "{1: {1, 2, 3, 4, 5, 6, 7, 8, 9},\n",
       " 2: {1, 2, 3, 4, 5, 6, 7, 8, 9},\n",
       " 3: {1, 2, 3, 5, 6, 8, 9},\n",
       " 4: {1, 2, 4, 5, 6, 7, 8, 9},\n",
       " 5: {1, 2, 3, 4, 5, 6, 7, 8, 9},\n",
       " 6: {1, 2, 3, 4, 5, 6, 7, 8, 9},\n",
       " 7: {1, 2, 4, 5, 6, 7, 8, 9},\n",
       " 8: {1, 2, 3, 4, 5, 6, 7, 8, 9},\n",
       " 9: {1, 2, 3, 4, 5, 6, 7, 8, 9}}"
      ]
     },
     "execution_count": 126,
     "metadata": {},
     "output_type": "execute_result"
    }
   ],
   "source": [
    "conflict_dict"
   ]
  },
  {
   "cell_type": "code",
   "execution_count": 136,
   "id": "ea2d7e89",
   "metadata": {},
   "outputs": [],
   "source": [
    "def verify_timetable(timetable, conflict_dict):\n",
    "    for timeslot in timetable:\n",
    "        for i, course1 in enumerate(timeslot):\n",
    "            for j, course2 in enumerate(timeslot):\n",
    "                if i != j:\n",
    "                    if course2 in conflict_dict[course1]:\n",
    "                        return False\n",
    "    return True"
   ]
  },
  {
   "cell_type": "code",
   "execution_count": 137,
   "id": "8b2b7c32",
   "metadata": {},
   "outputs": [
    {
     "name": "stdout",
     "output_type": "stream",
     "text": [
      "False\n"
     ]
    }
   ],
   "source": [
    "for tt in [tts]:\n",
    "    print(verify_timetable(tt, conflict_matrix))"
   ]
  },
  {
   "cell_type": "markdown",
   "id": "7e7a5927",
   "metadata": {},
   "source": [
    "$$\\Lambda(x, y) = (GapFactor(x) - (T(x) - T(y))^2$$"
   ]
  },
  {
   "cell_type": "code",
   "execution_count": null,
   "id": "31885a04",
   "metadata": {},
   "outputs": [],
   "source": [
    "# def compute_loss(curr_course, prev_course):\n",
    "#     # If we are testing against the first subject,\n",
    "#     # find the difference between it and the first\n",
    "#     # possible timeslot\n",
    "#     if prev_course is None:\n",
    "#         return curr_course[\"Date\"] ** 2\n",
    "    \n",
    "#     # Otherwise compute the loss normally\n",
    "#     return (curr_course[\"recommended_gap\"] - (curr_course[\"Date\"] - prev_course[\"Date\"])) ** 2"
   ]
  },
  {
   "cell_type": "markdown",
   "id": "665a90eb",
   "metadata": {},
   "source": [
    "$$J(S)=\\sum_{i=0}^{S-1}\\sum_{j=0}^{C(S_i)-1} \\Lambda(C(S_i)_j, C(S_i)_{j-1})$$"
   ]
  },
  {
   "cell_type": "code",
   "execution_count": null,
   "id": "7f5b482b",
   "metadata": {},
   "outputs": [],
   "source": [
    "# def compute_cost(courses_per_student):\n",
    "#     \"\"\"Computes the cost for the given students df\"\"\"\n",
    "#     cost = 0\n",
    "    \n",
    "#     # Loop through each student\n",
    "#     for name, courses_of_that_student in courses_per_student.items():\n",
    "#         # Sort the courses taken by that student by date\n",
    "#         courses = courses_per_student[name].sort_values(by=\"Date\")\n",
    "        \n",
    "#         # Loop through each subject taken by that student\n",
    "#         loss = 0\n",
    "#         for j in range(0, len(courses)):\n",
    "#             curr_course = courses.iloc[j]\n",
    "#             if j==0:\n",
    "#                 prev_course = None\n",
    "#             else:\n",
    "#                 prev_course = courses.iloc[j-1]\n",
    "#             loss += compute_loss(curr_course, prev_course)\n",
    "#         cost += loss\n",
    "#     return cost"
   ]
  }
 ],
 "metadata": {
  "kernelspec": {
   "display_name": "Python 3 (ipykernel)",
   "language": "python",
   "name": "python3"
  },
  "language_info": {
   "codemirror_mode": {
    "name": "ipython",
    "version": 3
   },
   "file_extension": ".py",
   "mimetype": "text/x-python",
   "name": "python",
   "nbconvert_exporter": "python",
   "pygments_lexer": "ipython3",
   "version": "3.9.6"
  }
 },
 "nbformat": 4,
 "nbformat_minor": 5
}

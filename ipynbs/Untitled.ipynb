{
 "cells": [
  {
   "cell_type": "code",
   "execution_count": 1,
   "id": "cfb63ccd",
   "metadata": {},
   "outputs": [],
   "source": [
    "from typing import Set, Any, Union, List, Dict, Tuple, Optional\n",
    "\n",
    "import pandas as pd\n",
    "import numpy as np"
   ]
  },
  {
   "cell_type": "code",
   "execution_count": 2,
   "id": "22dc4a11",
   "metadata": {},
   "outputs": [],
   "source": [
    "courses = pd.read_csv(\"../data/courses.csv\")\n",
    "students = pd.read_csv(\"../data/students.csv\")\n",
    "\n",
    "# Merge all courses of each student into a single column of lists\n",
    "students[\"cx\"] = students.apply(\n",
    "    lambda row: [row[c] for c in students if \"c\" in c and isinstance(row[c], str)],\n",
    "    axis=1,\n",
    ")"
   ]
  },
  {
   "cell_type": "code",
   "execution_count": 3,
   "id": "e0813a92",
   "metadata": {},
   "outputs": [],
   "source": [
    "class Course:\n",
    "    courses = set()\n",
    "\n",
    "    def __init__(\n",
    "        self, name: str, credit_hours: int, avg_grade: float, avg_coursework: float\n",
    "    ):\n",
    "        self.name = name\n",
    "        self.students = students\n",
    "        self.credit_hours = credit_hours\n",
    "        self.avg_grade = avg_grade\n",
    "        self.avg_coursework = avg_coursework\n",
    "\n",
    "        if self not in self.courses:\n",
    "            self.courses.add(self)\n",
    "\n",
    "    @classmethod\n",
    "    def get_course_by_name(cls, name: str):\n",
    "        for course in cls.courses:\n",
    "            if course.name == name:\n",
    "                return course\n",
    "        return None\n",
    "\n",
    "    @classmethod\n",
    "    def from_row(cls, row: pd.Series):\n",
    "        return Course(row[\"name\"], row[\"ch\"], row[\"grade\"], row[\"coursework\"])\n",
    "\n",
    "    def __repr__(self):\n",
    "        return f\"Course(name={self.name}, ch={self.credit_hours}, grade={self.avg_grade}, avg_cw={self.avg_coursework})\"\n",
    "\n",
    "    def __eq__(self, other):\n",
    "        return isinstance(other, Course) and self.name == other.name\n",
    "\n",
    "    def __hash__(self):\n",
    "        return hash(self.name)\n",
    "\n",
    "\n",
    "class Student:\n",
    "    students = set()\n",
    "\n",
    "    def __init__(self, name: str, courses: Set[Course]):\n",
    "        self.name = name\n",
    "        self.courses = courses\n",
    "        if self not in self.students:\n",
    "            self.students.add(self)\n",
    "\n",
    "    def add_course(self, course: Course):\n",
    "        self.courses.add(course)\n",
    "\n",
    "    @classmethod\n",
    "    def from_row(cls, row: pd.Series):\n",
    "        courses = {\n",
    "            Course.get_course_by_name(c)\n",
    "            for c in row[\"cx\"]\n",
    "            if Course.get_course_by_name(c) is not None\n",
    "        }\n",
    "\n",
    "        return Student(row[\"name\"], courses)\n",
    "\n",
    "    def __repr__(self):\n",
    "        return f\"Student(name={self.name}, courses={self.courses})\"\n",
    "\n",
    "    def __str__(self):\n",
    "        courses = \",\".join([c.name for c in self.courses])\n",
    "        return f\"Student(name={self.name}, courses={courses})\"\n",
    "\n",
    "    def __eq__(self, other):\n",
    "        return isinstance(other, Student) and self.name == other.name\n",
    "\n",
    "    def __hash__(self):\n",
    "        return hash(self.name)"
   ]
  },
  {
   "cell_type": "code",
   "execution_count": 4,
   "id": "c654c24e",
   "metadata": {},
   "outputs": [],
   "source": [
    "courses.apply(lambda row: Course.from_row(row), axis=1)\n",
    "students.apply(lambda row: Student.from_row(row), axis=1)\n",
    "\n",
    "None"
   ]
  },
  {
   "cell_type": "code",
   "execution_count": 5,
   "id": "d17868b4",
   "metadata": {},
   "outputs": [
    {
     "name": "stdout",
     "output_type": "stream",
     "text": [
      "Student(name=Ashour, courses=SGN,NTW,RTS,DSA,EDA,MLE)\n",
      "Student(name=Abdo, courses=NTW,RTS,DSA,EMB,EDA,MLE)\n",
      "Student(name=Obai, courses=SGN,DLE,RTS,DSA,EMB,MLE,AGL)\n",
      "Student(name=Megh, courses=NTW,DLE,RTS,DSA,EMB,EDA,AGL)\n",
      "Student(name=Ziad, courses=SGN,NTW,DSA,EMB,MTH,EDA,MLE)\n",
      "Student(name=Kareem, courses=NTW,DLE,RTS,MTH,MLE,AGL)\n",
      "Student(name=Osama, courses=SGN,NTW,DLE,RTS,MTH,MLE)\n"
     ]
    }
   ],
   "source": [
    "for s in Student.students:\n",
    "    print(s)"
   ]
  },
  {
   "cell_type": "code",
   "execution_count": 7,
   "id": "e3a96cc6",
   "metadata": {},
   "outputs": [
    {
     "name": "stdout",
     "output_type": "stream",
     "text": [
      "TimeTable(courses=SGN,NTW,DLE,RTS,DSA,EMB,MTH,EDA,MLE,AGL, students=Ashour,Abdo,Obai,Megh,Ziad,Kareem,Osama)\n"
     ]
    }
   ],
   "source": [
    "class TimeTable:\n",
    "    def __init__(self, courses: Set[Course], students: Set[Student]):\n",
    "        self.courses = courses\n",
    "        self.students = students\n",
    "\n",
    "    def course_frequency(self, course: Course):\n",
    "        return len([s for s in self.students if course in s.courses])\n",
    "\n",
    "    def __repr__(self):\n",
    "        return f\"TimeTable(courses={self.courses}, students={self.students})\"\n",
    "\n",
    "    def __str__(self):\n",
    "        courses = \",\".join([course.name for course in self.courses])\n",
    "        students = \",\".join([student.name for student in self.students])\n",
    "        return f\"TimeTable(courses={courses}, students={students})\"\n",
    "\n",
    "\n",
    "timetable = TimeTable(Course.courses, Student.students)\n",
    "print(timetable)"
   ]
  },
  {
   "cell_type": "code",
   "execution_count": 10,
   "id": "6eacc92d",
   "metadata": {},
   "outputs": [],
   "source": [
    "SGN = Course.get_course_by_name(\"SGN\")\n",
    "NTW = Course.get_course_by_name(\"NTW\")"
   ]
  },
  {
   "cell_type": "code",
   "execution_count": 12,
   "id": "dcdb4ec5",
   "metadata": {},
   "outputs": [
    {
     "data": {
      "text/plain": [
       "6"
      ]
     },
     "execution_count": 12,
     "metadata": {},
     "output_type": "execute_result"
    }
   ],
   "source": [
    "timetable.course_frequency(NTW)"
   ]
  },
  {
   "cell_type": "code",
   "execution_count": null,
   "id": "32f28cb2",
   "metadata": {},
   "outputs": [],
   "source": []
  }
 ],
 "metadata": {
  "kernelspec": {
   "display_name": "Python 3 (ipykernel)",
   "language": "python",
   "name": "python3"
  },
  "language_info": {
   "codemirror_mode": {
    "name": "ipython",
    "version": 3
   },
   "file_extension": ".py",
   "mimetype": "text/x-python",
   "name": "python",
   "nbconvert_exporter": "python",
   "pygments_lexer": "ipython3",
   "version": "3.9.6"
  }
 },
 "nbformat": 4,
 "nbformat_minor": 5
}
